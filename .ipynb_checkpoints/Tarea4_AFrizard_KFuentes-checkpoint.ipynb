{
 "cells": [
  {
   "cell_type": "markdown",
   "metadata": {},
   "source": [
    "###### <img style=\"float: left; margin: 30px 15px 15px 15px;\" src=\"https://th.bing.com/th/id/OIP.nO8qKnxmryWdnozqayhR5gHaGL?rs=1&pid=ImgDetMain\" width=\"300\" height=\"500\" /> \n",
    "    \n",
    "    \n",
    "### <font color='navy'> Simulación de procesos financieros. \n",
    "\n",
    "**Nombres:** Alejandro Frizard Aguilar, Keysi Fuentes Piña.\n",
    "\n",
    "**Fecha:** 19 de febrero del 2024.\n",
    "\n",
    "**Expediente** : 739647,740476 .\n",
    "**Profesor:** Oscar David Jaramillo Zuluaga.\n",
    "    \n",
    "**Link Github**: https://github.com/Frizard03/Tarea4_AFrizard_KFuentes\n",
    "\n",
    "# Tarea 4: Clase 9 y 10"
   ]
  },
  {
   "cell_type": "code",
   "execution_count": 4,
   "metadata": {},
   "outputs": [],
   "source": [
    "import numpy as np\n",
    "import numpy as np\n",
    "import matplotlib.pyplot as plt\n",
    "import pandas as pd\n",
    "import os\n",
    "import scipy.stats as st"
   ]
  },
  {
   "cell_type": "markdown",
   "metadata": {},
   "source": [
    "## Tarea 4"
   ]
  },
  {
   "cell_type": "markdown",
   "metadata": {},
   "source": [
    "### Ejercicio 1:\n",
    "Como ejemplo simple de una simulación de Monte Carlo, considere calcular la probabilidad de una suma particular del lanzamiento de tres dados (cada dado tiene valores del uno al seis). Además cada dado tiene las siguientes carácterísticas: el primer dado no está cargado (distribución uniforme todos son equiprobables); el segundo y tercer dado están cargados basados en una distribución binomial con parámetros (`n=5, p=0.5` y `n=5, p=0.2`). Calcule la probabilidad de que la suma resultante sea 7, 14 o 18. "
   ]
  },
  {
   "cell_type": "markdown",
   "metadata": {},
   "source": [
    "Código de Alejandro Frizard"
   ]
  },
  {
   "cell_type": "code",
   "execution_count": 5,
   "metadata": {},
   "outputs": [
    {
     "data": {
      "text/plain": [
       "array([0.1281 , 0.01365, 0.     ])"
      ]
     },
     "execution_count": 5,
     "metadata": {},
     "output_type": "execute_result"
    }
   ],
   "source": [
    "# Código de solución estudiante 1\n",
    "D1= np.random.randint(1,7,100000)\n",
    "DC1= st.binom(n=5,p=0.5, loc = 1).rvs(size=100000)\n",
    "DC2= st.binom(n=5,p=0.2, loc = 1).rvs(size=100000)\n",
    "\n",
    "Sum= D1 + DC1 + DC2\n",
    "\n",
    "prob1 = sum(list(map(lambda x: 1 if x == 7 else 0, Sum))) / 100000\n",
    "prob2 = sum(list(map(lambda x: 1 if x == 14 else 0, Sum))) / 100000\n",
    "prob3 = sum(list(map(lambda x: 1 if x == 18 else 0, Sum))) / 100000\n",
    "\n",
    "np.array([prob1,prob2,prob3])"
   ]
  },
  {
   "cell_type": "markdown",
   "metadata": {},
   "source": [
    "- La probabilidad de que la suma sea 7 es del 12.81%\n",
    "- La probabilidad de que sea 14 es de 1.36%\n",
    "- La probabilidad de que sea 18 es de 0%"
   ]
  },
  {
   "cell_type": "markdown",
   "metadata": {},
   "source": [
    "Código de solución estudiante 2"
   ]
  },
  {
   "cell_type": "code",
   "execution_count": null,
   "metadata": {},
   "outputs": [],
   "source": [
    "# Código de Keysi"
   ]
  },
  {
   "cell_type": "code",
   "execution_count": null,
   "metadata": {},
   "outputs": [],
   "source": []
  },
  {
   "cell_type": "code",
   "execution_count": null,
   "metadata": {},
   "outputs": [],
   "source": []
  },
  {
   "cell_type": "markdown",
   "metadata": {},
   "source": [
    "# 2 Ejercicio de juego\n",
    "\n",
    "En un casino, un jugador está jugando a lanzar un dado justo de 6 caras. Si el jugador lanza un número par, el casino paga $\\$1$ al jugador, de lo contrario, el jugador paga $\\$1$ al casino. El jugador decide jugar 100 veces.\n",
    "\n",
    "1. ¿Cuál es la probabilidad de que un jugador gane dinero después de 100 lanzamientos del dado bajo las reglas del juego (el casino paga $\\$1$ si el resultado es par y el jugador paga $\\$1$ si es impar)?\n",
    "\n",
    "2. ¿Cómo afectaría el cambio en las reglas del juego (por ejemplo, el casino paga $\\$2$ si el resultado es par y el jugador paga $\\$1$ si es impar) a la ganancia esperada para el jugador después de 100 lanzamientos?"
   ]
  },
  {
   "cell_type": "markdown",
   "metadata": {},
   "source": [
    "Código de Alejandro Frizard"
   ]
  },
  {
   "cell_type": "code",
   "execution_count": 10,
   "metadata": {},
   "outputs": [
    {
     "name": "stdout",
     "output_type": "stream",
     "text": [
      "1. Probabilidad de ganar dinero después de 100 lanzamientos: 0.4616\n",
      "2. Ganancia esperada para el jugador después de 100 lanzamientos con nuevo pago par: 50.0384\n"
     ]
    }
   ],
   "source": [
    "# Código de solución del estudiante 1\n",
    "import random\n",
    "\n",
    "def lanzar_dado():\n",
    "    return random.randint(1, 6)\n",
    "\n",
    "def jugar_partida():\n",
    "    resultado = lanzar_dado()\n",
    "    if resultado % 2 == 0:\n",
    "        return 1  # El jugador gana $1 si es par\n",
    "    else:\n",
    "        return -1  # El jugador pierde $1 si es impar\n",
    "\n",
    "def simular_juegos(num_juegos):\n",
    "    ganancias = 0\n",
    "    for _ in range(num_juegos):\n",
    "        ganancias += jugar_partida()\n",
    "    return ganancias\n",
    "\n",
    "# 1. Probabilidad de que el jugador gane dinero después de 100 lanzamientos\n",
    "def probabilidad_ganar(num_simulaciones, num_juegos):\n",
    "    num_ganadoras = 0\n",
    "    for _ in range(num_simulaciones):\n",
    "        ganancias = simular_juegos(num_juegos)\n",
    "        if ganancias > 0:\n",
    "            num_ganadoras += 1\n",
    "    return num_ganadoras / num_simulaciones\n",
    "\n",
    "num_simulaciones = 10000\n",
    "num_juegos = 100\n",
    "\n",
    "probabilidad = probabilidad_ganar(num_simulaciones, num_juegos)\n",
    "print(\"1. Probabilidad de ganar dinero después de 100 lanzamientos:\", probabilidad)\n",
    "\n",
    "# 2. Cambio en las reglas del juego\n",
    "def ganancia_esperada(num_simulaciones, num_juegos, pago_par, pago_impar):\n",
    "    ganancias_totales = 0\n",
    "    for _ in range(num_simulaciones):\n",
    "        ganancias = 0\n",
    "        for _ in range(num_juegos):\n",
    "            resultado = lanzar_dado()\n",
    "            if resultado % 2 == 0:\n",
    "                ganancias += pago_par\n",
    "            else:\n",
    "                ganancias -= pago_impar\n",
    "        ganancias_totales += ganancias\n",
    "    return ganancias_totales / num_simulaciones\n",
    "\n",
    "nuevo_pago_par = 2\n",
    "nueva_ganancia_esperada = ganancia_esperada(num_simulaciones, num_juegos, nuevo_pago_par, 1)\n",
    "print(\"2. Ganancia esperada para el jugador después de 100 lanzamientos con nuevo pago par:\", nueva_ganancia_esperada)\n"
   ]
  },
  {
   "cell_type": "markdown",
   "metadata": {},
   "source": [
    "### Respuesta planteada en el ejercicio usando (markdown)\n",
    "Los resultados del código estudiante 1 son:\n",
    "\n",
    "1. Probabilidad de ganar dinero después de 100 lanzamientos: 46.16%\n",
    "2. Ganancia esperada para el jugador después de 100 lanzamientos con nuevo pago par: 50.0384"
   ]
  },
  {
   "cell_type": "markdown",
   "metadata": {},
   "source": [
    "Código estudiante 2"
   ]
  },
  {
   "cell_type": "code",
   "execution_count": null,
   "metadata": {},
   "outputs": [],
   "source": [
    "# Código estudiante 2"
   ]
  }
 ],
 "metadata": {
  "kernelspec": {
   "display_name": "Python 3 (ipykernel)",
   "language": "python",
   "name": "python3"
  },
  "language_info": {
   "codemirror_mode": {
    "name": "ipython",
    "version": 3
   },
   "file_extension": ".py",
   "mimetype": "text/x-python",
   "name": "python",
   "nbconvert_exporter": "python",
   "pygments_lexer": "ipython3",
   "version": "3.9.12"
  }
 },
 "nbformat": 4,
 "nbformat_minor": 2
}
